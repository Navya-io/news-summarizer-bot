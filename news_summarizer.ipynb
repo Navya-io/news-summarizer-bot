{
 "cells": [
  {
   "cell_type": "code",
   "execution_count": 0,
   "metadata": {
    "application/vnd.databricks.v1+cell": {
     "cellMetadata": {
      "byteLimit": 2048000,
      "rowLimit": 10000
     },
     "inputWidgets": {},
     "nuid": "fbda5c59-47d5-4d43-8ced-dfcdfa8694d8",
     "showTitle": false,
     "tableResultSettingsMap": {},
     "title": ""
    }
   },
   "outputs": [
    {
     "output_type": "stream",
     "name": "stdout",
     "output_type": "stream",
     "text": [
      "                                               title  ...                                                url\n0  Multiple people shot at New Hampshire country ...  ...  https://www.cnn.com/2025/09/20/us/nashua-new-h...\n1  Democratic leaders in Congress demand a meetin...  ...  https://apnews.com/article/congress-government...\n2  New H-1B visa fee will not apply to existing h...  ...  https://www.axios.com/2025/09/20/trump-h-1b-im...\n3  Angeli, Syracuse upset Clemson 34-21; Dabo Swi...  ...  https://apnews.com/article/syracuse-clemson-sc...\n4  Man arrested after drive-by shooting at ABC TV...  ...  https://www.npr.org/2025/09/20/nx-s1-5548558/a...\n\n[5 rows x 5 columns]\n"
     ]
    }
   ],
   "source": [
    "import requests\n",
    "import pandas as pd\n",
    "\n",
    "# \uD83D\uDD11 Replace with your NewsAPI key\n",
    "API_KEY = os.getenv(\"NEWS_API_KEY\")\n",
    "\n",
    "# Example: Get top US headlines\n",
    "url = f\"https://newsapi.org/v2/top-headlines?country=us&apiKey={API_KEY}\"\n",
    "\n",
    "response = requests.get(url).json()\n",
    "\n",
    "# Extract relevant fields\n",
    "articles = response.get(\"articles\", [])\n",
    "df = pd.DataFrame([{\n",
    "    \"title\": a.get(\"title\"),\n",
    "    \"author\": a.get(\"author\"),\n",
    "    \"publishedAt\": a.get(\"publishedAt\"),\n",
    "    \"content\": a.get(\"content\"),\n",
    "    \"url\": a.get(\"url\")\n",
    "} for a in articles])\n",
    "\n",
    "print(df.head())\n"
   ]
  },
  {
   "cell_type": "code",
   "execution_count": 0,
   "metadata": {
    "application/vnd.databricks.v1+cell": {
     "cellMetadata": {
      "byteLimit": 2048000,
      "rowLimit": 10000
     },
     "inputWidgets": {},
     "nuid": "ac4b04c1-9e2e-436b-87a6-fea9cec133d1",
     "showTitle": false,
     "tableResultSettingsMap": {},
     "title": ""
    }
   },
   "outputs": [],
   "source": [
    "CATEGORIES = [\n",
    "    \"business\",\n",
    "    \"entertainment\",\n",
    "    \"general\",\n",
    "    \"health\",\n",
    "    \"science\",\n",
    "    \"sports\",\n",
    "    \"technology\"\n",
    "]"
   ]
  },
  {
   "cell_type": "code",
   "execution_count": 0,
   "metadata": {
    "application/vnd.databricks.v1+cell": {
     "cellMetadata": {
      "byteLimit": 2048000,
      "rowLimit": 10000
     },
     "inputWidgets": {},
     "nuid": "34a20d94-dd5c-4d50-a88a-5e63ac28c933",
     "showTitle": false,
     "tableResultSettingsMap": {},
     "title": ""
    }
   },
   "outputs": [],
   "source": [
    "def fetch_news(category=None, limit=10):\n",
    "    if category:  # If user picks a category\n",
    "        url = f\"https://newsapi.org/v2/top-headlines?country=us&category={category}&apiKey={API_KEY}\"\n",
    "    else:  # Default = all categories\n",
    "        url = f\"https://newsapi.org/v2/top-headlines?country=us&apiKey={API_KEY}\"\n",
    "    \n",
    "    response = requests.get(url).json()\n",
    "    articles = response.get(\"articles\", [])[:limit]\n",
    "    \n",
    "    data = []\n",
    "    for a in articles:\n",
    "        text = (a.get(\"description\") or \"\") + \" \" + (a.get(\"content\") or \"\")\n",
    "        data.append({\n",
    "            \"title\": a.get(\"title\"),\n",
    "            \"content\": text,\n",
    "            \"url\": a.get(\"url\"),\n",
    "            \"publishedAt\": a.get(\"publishedAt\")\n",
    "        })\n",
    "    return pd.DataFrame(data)"
   ]
  },
  {
   "cell_type": "code",
   "execution_count": 0,
   "metadata": {
    "application/vnd.databricks.v1+cell": {
     "cellMetadata": {
      "byteLimit": 2048000,
      "rowLimit": 10000
     },
     "inputWidgets": {},
     "nuid": "208fc17c-1a0e-4a74-bc7e-30b30da539b5",
     "showTitle": false,
     "tableResultSettingsMap": {},
     "title": ""
    }
   },
   "outputs": [
    {
     "output_type": "stream",
     "name": "stdout",
     "output_type": "stream",
     "text": [
      "Requirement already satisfied: transformers in /local_disk0/.ephemeral_nfs/envs/pythonEnv-55c792e3-b43c-486c-bfce-bf0f0ac05b82/lib/python3.12/site-packages (4.56.2)\nRequirement already satisfied: filelock in /usr/local/lib/python3.12/dist-packages (from transformers) (3.15.4)\nRequirement already satisfied: huggingface-hub<1.0,>=0.34.0 in /local_disk0/.ephemeral_nfs/envs/pythonEnv-55c792e3-b43c-486c-bfce-bf0f0ac05b82/lib/python3.12/site-packages (from transformers) (0.35.0)\nRequirement already satisfied: numpy>=1.17 in /databricks/python3/lib/python3.12/site-packages (from transformers) (1.26.4)\nRequirement already satisfied: packaging>=20.0 in /databricks/python3/lib/python3.12/site-packages (from transformers) (24.1)\nRequirement already satisfied: pyyaml>=5.1 in /databricks/python3/lib/python3.12/site-packages (from transformers) (6.0.1)\nRequirement already satisfied: regex!=2019.12.17 in /local_disk0/.ephemeral_nfs/envs/pythonEnv-55c792e3-b43c-486c-bfce-bf0f0ac05b82/lib/python3.12/site-packages (from transformers) (2025.9.18)\nRequirement already satisfied: requests in /databricks/python3/lib/python3.12/site-packages (from transformers) (2.32.2)\nRequirement already satisfied: tokenizers<=0.23.0,>=0.22.0 in /local_disk0/.ephemeral_nfs/envs/pythonEnv-55c792e3-b43c-486c-bfce-bf0f0ac05b82/lib/python3.12/site-packages (from transformers) (0.22.1)\nRequirement already satisfied: safetensors>=0.4.3 in /local_disk0/.ephemeral_nfs/envs/pythonEnv-55c792e3-b43c-486c-bfce-bf0f0ac05b82/lib/python3.12/site-packages (from transformers) (0.6.2)\nRequirement already satisfied: tqdm>=4.27 in /local_disk0/.ephemeral_nfs/envs/pythonEnv-55c792e3-b43c-486c-bfce-bf0f0ac05b82/lib/python3.12/site-packages (from transformers) (4.67.1)\nRequirement already satisfied: fsspec>=2023.5.0 in /local_disk0/.ephemeral_nfs/envs/pythonEnv-55c792e3-b43c-486c-bfce-bf0f0ac05b82/lib/python3.12/site-packages (from huggingface-hub<1.0,>=0.34.0->transformers) (2025.9.0)\nRequirement already satisfied: typing-extensions>=3.7.4.3 in /databricks/python3/lib/python3.12/site-packages (from huggingface-hub<1.0,>=0.34.0->transformers) (4.11.0)\nRequirement already satisfied: hf-xet<2.0.0,>=1.1.3 in /local_disk0/.ephemeral_nfs/envs/pythonEnv-55c792e3-b43c-486c-bfce-bf0f0ac05b82/lib/python3.12/site-packages (from huggingface-hub<1.0,>=0.34.0->transformers) (1.1.10)\nRequirement already satisfied: charset-normalizer<4,>=2 in /databricks/python3/lib/python3.12/site-packages (from requests->transformers) (2.0.4)\nRequirement already satisfied: idna<4,>=2.5 in /databricks/python3/lib/python3.12/site-packages (from requests->transformers) (3.7)\nRequirement already satisfied: urllib3<3,>=1.21.1 in /databricks/python3/lib/python3.12/site-packages (from requests->transformers) (2.2.2)\nRequirement already satisfied: certifi>=2017.4.17 in /databricks/python3/lib/python3.12/site-packages (from requests->transformers) (2024.6.2)\n\u001B[43mNote: you may need to restart the kernel using %restart_python or dbutils.library.restartPython() to use updated packages.\u001B[0m\n"
     ]
    }
   ],
   "source": [
    "pip install transformers\n"
   ]
  },
  {
   "cell_type": "code",
   "execution_count": 0,
   "metadata": {
    "application/vnd.databricks.v1+cell": {
     "cellMetadata": {
      "byteLimit": 2048000,
      "rowLimit": 10000
     },
     "inputWidgets": {},
     "nuid": "6a4cd928-3128-4c01-ba60-f86afe685537",
     "showTitle": false,
     "tableResultSettingsMap": {},
     "title": ""
    }
   },
   "outputs": [
    {
     "output_type": "stream",
     "name": "stdout",
     "output_type": "stream",
     "text": [
      "Collecting torch\n  Downloading torch-2.8.0-cp312-cp312-manylinux_2_28_aarch64.whl.metadata (30 kB)\nRequirement already satisfied: filelock in /usr/local/lib/python3.12/dist-packages (from torch) (3.15.4)\nRequirement already satisfied: typing-extensions>=4.10.0 in /databricks/python3/lib/python3.12/site-packages (from torch) (4.11.0)\nRequirement already satisfied: setuptools in /usr/local/lib/python3.12/dist-packages (from torch) (75.8.0)\nCollecting sympy>=1.13.3 (from torch)\n  Downloading sympy-1.14.0-py3-none-any.whl.metadata (12 kB)\nCollecting networkx (from torch)\n  Downloading networkx-3.5-py3-none-any.whl.metadata (6.3 kB)\nCollecting jinja2 (from torch)\n  Downloading jinja2-3.1.6-py3-none-any.whl.metadata (2.9 kB)\nRequirement already satisfied: fsspec in /local_disk0/.ephemeral_nfs/envs/pythonEnv-55c792e3-b43c-486c-bfce-bf0f0ac05b82/lib/python3.12/site-packages (from torch) (2025.9.0)\nCollecting mpmath<1.4,>=1.1.0 (from sympy>=1.13.3->torch)\n  Downloading mpmath-1.3.0-py3-none-any.whl.metadata (8.6 kB)\nCollecting MarkupSafe>=2.0 (from jinja2->torch)\n  Downloading MarkupSafe-3.0.2-cp312-cp312-manylinux_2_17_aarch64.manylinux2014_aarch64.whl.metadata (4.0 kB)\nDownloading torch-2.8.0-cp312-cp312-manylinux_2_28_aarch64.whl (101.9 MB)\n\u001B[?25l   \u001B[90m━━━━━━━━━━━━━━━━━━━━━━━━━━━━━━━━━━━━━━━━\u001B[0m \u001B[32m0.0/101.9 MB\u001B[0m \u001B[31m?\u001B[0m eta \u001B[36m-:--:--\u001B[0m\r\u001B[2K   \u001B[91m━━━━━━━━━━━━\u001B[0m\u001B[91m╸\u001B[0m\u001B[90m━━━━━━━━━━━━━━━━━━━━━━━━━━━\u001B[0m \u001B[32m33.0/101.9 MB\u001B[0m \u001B[31m188.0 MB/s\u001B[0m eta \u001B[36m0:00:01\u001B[0m\r\u001B[2K   \u001B[91m━━━━━━━━━━━━━━━━━━━━━━━━━━━━━━━━━\u001B[0m\u001B[91m╸\u001B[0m\u001B[90m━━━━━━\u001B[0m \u001B[32m86.5/101.9 MB\u001B[0m \u001B[31m229.5 MB/s\u001B[0m eta \u001B[36m0:00:01\u001B[0m\r\u001B[2K   \u001B[91m━━━━━━━━━━━━━━━━━━━━━━━━━━━━━━━━━━━━━━\u001B[0m\u001B[91m╸\u001B[0m \u001B[32m101.7/101.9 MB\u001B[0m \u001B[31m236.6 MB/s\u001B[0m eta \u001B[36m0:00:01\u001B[0m\r\u001B[2K   \u001B[90m━━━━━━━━━━━━━━━━━━━━━━━━━━━━━━━━━━━━━━━\u001B[0m \u001B[32m101.9/101.9 MB\u001B[0m \u001B[31m166.7 MB/s\u001B[0m eta \u001B[36m0:00:00\u001B[0m\n\u001B[?25hDownloading sympy-1.14.0-py3-none-any.whl (6.3 MB)\n\u001B[?25l   \u001B[90m━━━━━━━━━━━━━━━━━━━━━━━━━━━━━━━━━━━━━━━━\u001B[0m \u001B[32m0.0/6.3 MB\u001B[0m \u001B[31m?\u001B[0m eta \u001B[36m-:--:--\u001B[0m\r\u001B[2K   \u001B[90m━━━━━━━━━━━━━━━━━━━━━━━━━━━━━━━━━━━━━━━━\u001B[0m \u001B[32m6.3/6.3 MB\u001B[0m \u001B[31m140.9 MB/s\u001B[0m eta \u001B[36m0:00:00\u001B[0m\n\u001B[?25hDownloading jinja2-3.1.6-py3-none-any.whl (134 kB)\nDownloading networkx-3.5-py3-none-any.whl (2.0 MB)\n\u001B[?25l   \u001B[90m━━━━━━━━━━━━━━━━━━━━━━━━━━━━━━━━━━━━━━━━\u001B[0m \u001B[32m0.0/2.0 MB\u001B[0m \u001B[31m?\u001B[0m eta \u001B[36m-:--:--\u001B[0m\r\u001B[2K   \u001B[90m━━━━━━━━━━━━━━━━━━━━━━━━━━━━━━━━━━━━━━━━\u001B[0m \u001B[32m2.0/2.0 MB\u001B[0m \u001B[31m82.0 MB/s\u001B[0m eta \u001B[36m0:00:00\u001B[0m\n\u001B[?25hDownloading MarkupSafe-3.0.2-cp312-cp312-manylinux_2_17_aarch64.manylinux2014_aarch64.whl (24 kB)\nDownloading mpmath-1.3.0-py3-none-any.whl (536 kB)\n\u001B[?25l   \u001B[90m━━━━━━━━━━━━━━━━━━━━━━━━━━━━━━━━━━━━━━━━\u001B[0m \u001B[32m0.0/536.2 kB\u001B[0m \u001B[31m?\u001B[0m eta \u001B[36m-:--:--\u001B[0m\r\u001B[2K   \u001B[90m━━━━━━━━━━━━━━━━━━━━━━━━━━━━━━━━━━━━━━━━\u001B[0m \u001B[32m536.2/536.2 kB\u001B[0m \u001B[31m19.9 MB/s\u001B[0m eta \u001B[36m0:00:00\u001B[0m\n\u001B[?25hInstalling collected packages: mpmath, sympy, networkx, MarkupSafe, jinja2, torch\nSuccessfully installed MarkupSafe-3.0.2 jinja2-3.1.6 mpmath-1.3.0 networkx-3.5 sympy-1.14.0 torch-2.8.0\n\u001B[43mNote: you may need to restart the kernel using %restart_python or dbutils.library.restartPython() to use updated packages.\u001B[0m\n"
     ]
    }
   ],
   "source": [
    "%pip install torch\n"
   ]
  },
  {
   "cell_type": "code",
   "execution_count": 0,
   "metadata": {
    "application/vnd.databricks.v1+cell": {
     "cellMetadata": {
      "byteLimit": 2048000,
      "rowLimit": 10000
     },
     "inputWidgets": {},
     "nuid": "b8939495-5257-41e6-8b11-ad4c92242bc1",
     "showTitle": false,
     "tableResultSettingsMap": {},
     "title": ""
    }
   },
   "outputs": [],
   "source": [
    "%restart_python"
   ]
  },
  {
   "cell_type": "code",
   "execution_count": 0,
   "metadata": {
    "application/vnd.databricks.v1+cell": {
     "cellMetadata": {},
     "inputWidgets": {},
     "nuid": "4f6e99eb-20ab-44be-963a-9327d2618b3e",
     "showTitle": false,
     "tableResultSettingsMap": {},
     "title": ""
    }
   },
   "outputs": [],
   "source": [
    "%restart_python"
   ]
  },
  {
   "cell_type": "code",
   "execution_count": 0,
   "metadata": {
    "application/vnd.databricks.v1+cell": {
     "cellMetadata": {
      "byteLimit": 2048000,
      "rowLimit": 10000
     },
     "inputWidgets": {},
     "nuid": "4e0c1ac2-3e0b-4a9f-86ae-930f4d45b5eb",
     "showTitle": false,
     "tableResultSettingsMap": {},
     "title": ""
    }
   },
   "outputs": [
    {
     "output_type": "stream",
     "name": "stderr",
     "output_type": "stream",
     "text": [
      "Device set to use cpu\n"
     ]
    }
   ],
   "source": [
    "# Load summarizer model (make sure torch is installed!)\n",
    "summarizer = pipeline(\"summarization\", model=\"facebook/bart-large-cnn\")"
   ]
  },
  {
   "cell_type": "code",
   "execution_count": 0,
   "metadata": {
    "application/vnd.databricks.v1+cell": {
     "cellMetadata": {
      "byteLimit": 2048000,
      "rowLimit": 10000
     },
     "inputWidgets": {},
     "nuid": "445871ba-455a-4b73-93bd-98345c136b1a",
     "showTitle": false,
     "tableResultSettingsMap": {},
     "title": ""
    }
   },
   "outputs": [],
   "source": [
    "def summarize_article(text):\n",
    "    if not text or len(text.split()) < 20:\n",
    "        return \"Not enough text to summarize.\"\n",
    "    \n",
    "    input_len = len(text.split())\n",
    "    max_len = min(120, int(input_len * 0.6))   # ~60% of input\n",
    "    min_len = max(30, int(input_len * 0.3))    # ~30% of input\n",
    "    \n",
    "    summary = summarizer(\n",
    "        text,\n",
    "        max_length=max_len,\n",
    "        min_length=min_len,\n",
    "        do_sample=False\n",
    "    )\n",
    "    return summary[0]['summary_text']"
   ]
  },
  {
   "cell_type": "code",
   "execution_count": 0,
   "metadata": {
    "application/vnd.databricks.v1+cell": {
     "cellMetadata": {
      "byteLimit": 2048000,
      "rowLimit": 10000
     },
     "inputWidgets": {},
     "nuid": "f60e314b-46ed-48bd-9cd6-0d74b18243b7",
     "showTitle": false,
     "tableResultSettingsMap": {},
     "title": ""
    }
   },
   "outputs": [
    {
     "output_type": "stream",
     "name": "stderr",
     "output_type": "stream",
     "text": [
      "Your min_length=30 must be inferior than your max_length=27.\n/local_disk0/.ephemeral_nfs/envs/pythonEnv-55c792e3-b43c-486c-bfce-bf0f0ac05b82/lib/python3.12/site-packages/transformers/generation/utils.py:1618: UserWarning: Unfeasible length constraints: `min_length` (30) is larger than the maximum possible length (27). Generation will stop at the defined maximum length. You should decrease the minimum length and/or increase the maximum length.\n  warnings.warn(\nYour min_length=30 must be inferior than your max_length=25.\n/local_disk0/.ephemeral_nfs/envs/pythonEnv-55c792e3-b43c-486c-bfce-bf0f0ac05b82/lib/python3.12/site-packages/transformers/generation/utils.py:1618: UserWarning: Unfeasible length constraints: `min_length` (30) is larger than the maximum possible length (25). Generation will stop at the defined maximum length. You should decrease the minimum length and/or increase the maximum length.\n  warnings.warn(\n"
     ]
    },
    {
     "output_type": "stream",
     "name": "stdout",
     "output_type": "stream",
     "text": [
      "\n Here's How Much A 3-Year-Old Ford Bronco Has Depreciated So Far - Jalopnik\n Published: 2025-09-20T22:05:00Z\n https://www.jalopnik.com/1968781/ford-bronco-depreciation-3-year/\n Summary: After three years, your Ford Bronco's value has likely dropped by nearly 36%. Some cars depreciate much faster than others for a multitude of reasons. If a large number of\n--------------------------------------------------------------------------------\n\n FAA says ‘multiple failures’ in technology caused DFW, Love Field equipment outage - Dallas News\n Published: 2025-09-20T20:48:45Z\n https://www.dallasnews.com/business/airlines/2025/09/20/faa-says-multiple-failures-in-technology-caused-dfw-love-field-equipment-outage/\n Summary: Both airports have returned to normal operations, FAA says. Ground stop and equipment outage caused hundreds of flights to be canceled.\n--------------------------------------------------------------------------------\n\n Bitcoin defies September slump: Mapping BTC’s path to $130K - AMBCrypto\n Published: 2025-09-20T20:02:33Z\n https://ambcrypto.com/?p=530172\n Summary:  BTC gained 8%, held $116K support, RSI balanced at 57, and Parabolic SAR confirmed bullish\n--------------------------------------------------------------------------------\n\n This Golden Bitcoin Statue of Donald Trump Is Going Viral - BuzzFeed\n Published: 2025-09-20T19:58:15Z\n https://www.buzzfeed.com/mychalthompson/donald-trump-gold-statue\n Summary: Not enough text to summarize.\n--------------------------------------------------------------------------------\n\n Social Security is on track to be insolvent in less than 10 years — but its commissioner says there’s ‘plenty of time’ to find a solution - Yahoo Finance\n Published: 2025-09-20T18:51:00Z\n https://www.marketwatch.com/story/social-security-is-on-track-to-be-insolvent-in-less-than-10-years-but-its-commissioner-says-theres-plenty-of-time-956344f1\n Summary: The Old-Age and Survivors Insurance fund is expected to run out of money by 2033 at the latest. Recent reports show the fund will\n--------------------------------------------------------------------------------\n"
     ]
    }
   ],
   "source": [
    "# Step 3: Run with User Choice\n",
    "# -------------------------------\n",
    "# Example: user picks category\n",
    "user_choice = \"business\"   # can be any from CATEGORIES, or None for all\n",
    "limit = 5\n",
    "\n",
    "df = fetch_news(user_choice if user_choice != \"All\" else None, limit=limit)\n",
    "df[\"summary\"] = df[\"content\"].apply(summarize_article)\n",
    "\n",
    "# Display results\n",
    "for i, row in df.iterrows():\n",
    "    print(f\"\\n {row['title']}\")\n",
    "    print(f\" Published: {row['publishedAt']}\")\n",
    "    print(f\" {row['url']}\")\n",
    "    print(f\" Summary: {row['summary']}\")\n",
    "    print(\"-\" * 80)"
   ]
  }
 ],
 "metadata": {
  "application/vnd.databricks.v1+notebook": {
   "computePreferences": null,
   "dashboards": [],
   "environmentMetadata": {
    "base_environment": "",
    "environment_version": "3"
   },
   "inputWidgetPreferences": null,
   "language": "python",
   "notebookMetadata": {
    "pythonIndentUnit": 4
   },
   "notebookName": "news_summarizer",
   "widgets": {}
  },
  "language_info": {
   "name": "python"
  }
 },
 "nbformat": 4,
 "nbformat_minor": 0
}